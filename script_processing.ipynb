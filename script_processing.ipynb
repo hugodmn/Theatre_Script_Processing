{
 "cells": [
  {
   "cell_type": "markdown",
   "metadata": {},
   "source": [
    "# Convert RTF theatre play script to text "
   ]
  },
  {
   "cell_type": "markdown",
   "metadata": {},
   "source": [
    "### For Amleth"
   ]
  },
  {
   "cell_type": "code",
   "execution_count": 36,
   "metadata": {},
   "outputs": [],
   "source": [
    "import re\n",
    "from striprtf.striprtf import rtf_to_text\n",
    "\n",
    "# Open the RTF file for reading\n",
    "Name = False\n",
    "Text = False \n",
    "rtf_file_path = '/Users/hugo/Desktop/Projects/MSERT/scripts/not_processed/Amleth_notprocessed.rtf'\n",
    "with open(rtf_file_path, 'rb') as rtf_file:\n",
    "    # Use the striprtf library to convert RTF to plain text\n",
    "    rtf_text = rtf_file.read()\n",
    "    #convert bytes to string\n",
    "    rtf_text = rtf_text.decode('utf-8')\n",
    "\n",
    "    text_file_path = '/Users/hugo/Desktop/Projects/MSERT/scripts/processed/Amleth_processed.txt'\n",
    "    text_file = open(text_file_path, 'w')\n",
    "    idx = 0\n",
    "    #rtf_text = rtf_text.replace(\"b'{\\\\rtf1\\\\ansi\\\\ansicpg1252\\\\cocoartf2709\\n\\\\cocoatextscaling0\\\\cocoaplatform0{\\\\fonttbl\\\\f0\\\\fswiss\\\\fcharset0 Helvetica-Bold;\\\\f1\\\\fswiss\\\\fcharset0 Helvetica;\\\\f2\\\\froman\\\\fcharset0 Times-Bold;\\n\\\\f3\\\\froman\\\\fcharset0 Times-Roman;\\\\f4\\\\froman\\\\fcharset0 Times-Italic;}\\n{\\\\colortbl;\\\\red255\\\\green255\\\\blue255;\\\\red0\\\\green0\\\\blue0;\\\\red194\\\\green245\\\\blue244;\\\\red109\\\\green109\\\\blue109;\\n\\\\red0\\\\green0\\\\blue233;\\\\red255\\\\green255\\\\blue255;}\\n{\\\\*\\\\expandedcolortbl;;\\\\cssrgb\\\\c0\\\\c0\\\\c0;\\\\cssrgb\\\\c80000\\\\c96471\\\\c96471;\\\\cssrgb\\\\c50196\\\\c50196\\\\c50196;\\n\\\\cssrgb\\\\c0\\\\c0\\\\c93333;\\\\cssrgb\\\\c100000\\\\c100000\\\\c100000;}\\n\\\\paperw11900\\\\paperh16840\\\\margl1440\\\\margr1440\\\\vieww11520\\\\viewh8400\\\\viewkind0\\n\\\\deftab720\\n\\n\\\\itap1\\\\trowd \\\\taflags0 \\\\trgaph108\\\\trleft-108 \\\\trcbpat3 \\\\trwWidth15380\\\\trftsWidth3 \\\\trbrdrt\\\\brdrnil \\\\trbrdrl\\\\brdrnil \\\\trbrdrr\\\\brdrnil \\n\\\\clvertalc \\\\clshdrawnil \\\\clwWidth15260\\\\clftsWidth3 \\\\clmart10 \\\\clmarl10 \\\\clmarb10 \\\\clmarr10 \\\\clbrdrt\\\\brdrnil \\\\clbrdrl\\\\brdrnil \\\\clbrdrb\\\\brdrnil \\\\clbrdrr\\\\brdrnil \\\\clpadt20 \\\\clpadl20 \\\\clpadb20 \\\\clpadr20 \\\\gaph\\\\cellx8640\\n\\\\pard\\\\intbl\\\\itap1\\\\pardeftab720\\\\qc\\\\partightenfactor0\\n\\n\\\\f0\\\\b\\\\fs48 \\\\cf0 \\\\expnd0\\\\expndtw0\\\\kerning0\\n\\\\outl0\\\\strokewidth0 \\\\strokec2 The Tragedy of Hamlet, Prince of Denmark\\\\cell \\\\row\\n\\n\\\\itap1\\\\trowd \\\\taflags0 \\\\trgaph108\\\\trleft-108 \\\\trcbpat3 \\\\trwWidth15380\\\\trftsWidth3 \\\\trbrdrl\\\\brdrnil \\\\trbrdrt\\\\brdrnil \\\\trbrdrr\\\\brdrnil \\n\\\\clvertalc \\\\clshdrawnil \\\\clwWidth15260\\\\clftsWidth3 \\\\clmart10 \\\\clmarl10 \\\\clmarb10 \\\\clmarr10 \\\\clbrdrt\\\\brdrnil \\\\clbrdrl\\\\brdrnil \\\\clbrdrb\\\\brdrnil \\\\clbrdrr\\\\brdrnil \\\\clpadt20 \\\\clpadl20 \\\\clpadb20 \\\\clpadr20 \\\\gaph\\\\cellx8640\\n\\\\pard\\\\intbl\\\\itap1\\\\pardeftab720\\\\qc\\\\partightenfactor0\\n{\\\\field{\\\\*\\\\fldinst{HYPERLINK \"http://shakespeare.mit.edu/Shakespeare\"}}{\\\\fldrslt \\n\\\\f1\\\\b0\\\\fs24 \\\\cf5 \\\\ul \\\\ulc5 \\\\strokec5 Shakespeare homepage}}\\n\", '')\n",
    "    # Go throw the rtf_text (which is a string) and write each text line in a text file (if the text is between \\i and \\i0, add '**' at the beginning and end of the line)\n",
    "    text = rtf_text.split(\"\\n\")\n",
    "    for line in text:\n",
    "        \n",
    "        #TEXT\n",
    "        if Text == True : \n",
    "            if line == '' :\n",
    "                Text = False\n",
    "            else : \n",
    "                text_file.write(line.replace('\\\\', '')+'\\n')\n",
    "\n",
    "        if line[0:8] == \"\\\\f3\\\\b0 \\\\\":\n",
    "            Text = True\n",
    "        \n",
    "        #NAMES\n",
    "        if line[0:5] == \"\\\\f2\\\\b\":\n",
    "            if line[0:10] == \"\\\\f2\\\\b\\\\fs28\":\n",
    "                text_file.write('***'+text[idx].replace('\\\\', '').replace('f2bfs28 ','').replace('cf0 ', '').replace('cb1 ','')+'***'+'\\n')\n",
    "            else:\n",
    "                text_file.write('*'+text[idx].replace('\\\\', '').replace('f2b ','').replace('cf0 ', '').replace('cb1 ','')+'*'+'\\n')\n",
    "\n",
    "        ## CONSIGNES\n",
    "        if line[0:10] == \"\\\\f4\\\\i \\\\cf0\":\n",
    "            text_file.write('**'+text[idx].replace('\\\\', '').replace('f4i ','').replace('f4i', '').replace('cf0 ','')+'**'+'\\n')\n",
    "        idx += 1\n",
    "      \n",
    "\n",
    "\n",
    "\n"
   ]
  },
  {
   "cell_type": "markdown",
   "metadata": {},
   "source": [
    "### For pursuit of hapiness"
   ]
  },
  {
   "cell_type": "code",
   "execution_count": 2,
   "metadata": {},
   "outputs": [],
   "source": [
    "characters =  ['BARMAN', 'JESSICA', 'TREVOR', 'MARGARET', 'ALAN', 'PRIEST', 'MR CLEETHORPES']"
   ]
  },
  {
   "cell_type": "code",
   "execution_count": 3,
   "metadata": {},
   "outputs": [
    {
     "name": "stdout",
     "output_type": "stream",
     "text": [
      "BARM\n",
      "JESS\n",
      "TREV\n",
      "MARG\n",
      "ALAN\n",
      "PRIE\n",
      "MR C\n"
     ]
    }
   ],
   "source": [
    "characters_begin = [name[0:4] for name in characters]\n",
    "\n",
    "for i in characters_begin :\n",
    "    print(i)"
   ]
  },
  {
   "cell_type": "code",
   "execution_count": 6,
   "metadata": {},
   "outputs": [],
   "source": [
    "import re\n",
    "from striprtf.striprtf import rtf_to_text\n",
    "\n",
    "# Open the RTF file for reading\n",
    "Name = False\n",
    "Text = False \n",
    "rtf_file_path = '/Users/hugo/Desktop/Projects/MSERT/scripts/not_processed/pursuit_of_happiness.rtf'\n",
    "with open(rtf_file_path, 'rb') as rtf_file:\n",
    "    # Use the striprtf library to convert RTF to plain text\n",
    "    rtf_text = rtf_file.read()\n",
    "    #convert bytes to string\n",
    "    rtf_text = rtf_text.decode('utf-8')\n",
    "\n",
    "    text_file_path = '/Users/hugo/Desktop/Projects/MSERT/scripts/processed/POH_processed.txt'\n",
    "    text_file = open(text_file_path, 'w')\n",
    "    idx = 0\n",
    "    #rtf_text = rtf_text.replace(\"b'{\\\\rtf1\\\\ansi\\\\ansicpg1252\\\\cocoartf2709\\n\\\\cocoatextscaling0\\\\cocoaplatform0{\\\\fonttbl\\\\f0\\\\fswiss\\\\fcharset0 Helvetica-Bold;\\\\f1\\\\fswiss\\\\fcharset0 Helvetica;\\\\f2\\\\froman\\\\fcharset0 Times-Bold;\\n\\\\f3\\\\froman\\\\fcharset0 Times-Roman;\\\\f4\\\\froman\\\\fcharset0 Times-Italic;}\\n{\\\\colortbl;\\\\red255\\\\green255\\\\blue255;\\\\red0\\\\green0\\\\blue0;\\\\red194\\\\green245\\\\blue244;\\\\red109\\\\green109\\\\blue109;\\n\\\\red0\\\\green0\\\\blue233;\\\\red255\\\\green255\\\\blue255;}\\n{\\\\*\\\\expandedcolortbl;;\\\\cssrgb\\\\c0\\\\c0\\\\c0;\\\\cssrgb\\\\c80000\\\\c96471\\\\c96471;\\\\cssrgb\\\\c50196\\\\c50196\\\\c50196;\\n\\\\cssrgb\\\\c0\\\\c0\\\\c93333;\\\\cssrgb\\\\c100000\\\\c100000\\\\c100000;}\\n\\\\paperw11900\\\\paperh16840\\\\margl1440\\\\margr1440\\\\vieww11520\\\\viewh8400\\\\viewkind0\\n\\\\deftab720\\n\\n\\\\itap1\\\\trowd \\\\taflags0 \\\\trgaph108\\\\trleft-108 \\\\trcbpat3 \\\\trwWidth15380\\\\trftsWidth3 \\\\trbrdrt\\\\brdrnil \\\\trbrdrl\\\\brdrnil \\\\trbrdrr\\\\brdrnil \\n\\\\clvertalc \\\\clshdrawnil \\\\clwWidth15260\\\\clftsWidth3 \\\\clmart10 \\\\clmarl10 \\\\clmarb10 \\\\clmarr10 \\\\clbrdrt\\\\brdrnil \\\\clbrdrl\\\\brdrnil \\\\clbrdrb\\\\brdrnil \\\\clbrdrr\\\\brdrnil \\\\clpadt20 \\\\clpadl20 \\\\clpadb20 \\\\clpadr20 \\\\gaph\\\\cellx8640\\n\\\\pard\\\\intbl\\\\itap1\\\\pardeftab720\\\\qc\\\\partightenfactor0\\n\\n\\\\f0\\\\b\\\\fs48 \\\\cf0 \\\\expnd0\\\\expndtw0\\\\kerning0\\n\\\\outl0\\\\strokewidth0 \\\\strokec2 The Tragedy of Hamlet, Prince of Denmark\\\\cell \\\\row\\n\\n\\\\itap1\\\\trowd \\\\taflags0 \\\\trgaph108\\\\trleft-108 \\\\trcbpat3 \\\\trwWidth15380\\\\trftsWidth3 \\\\trbrdrl\\\\brdrnil \\\\trbrdrt\\\\brdrnil \\\\trbrdrr\\\\brdrnil \\n\\\\clvertalc \\\\clshdrawnil \\\\clwWidth15260\\\\clftsWidth3 \\\\clmart10 \\\\clmarl10 \\\\clmarb10 \\\\clmarr10 \\\\clbrdrt\\\\brdrnil \\\\clbrdrl\\\\brdrnil \\\\clbrdrb\\\\brdrnil \\\\clbrdrr\\\\brdrnil \\\\clpadt20 \\\\clpadl20 \\\\clpadb20 \\\\clpadr20 \\\\gaph\\\\cellx8640\\n\\\\pard\\\\intbl\\\\itap1\\\\pardeftab720\\\\qc\\\\partightenfactor0\\n{\\\\field{\\\\*\\\\fldinst{HYPERLINK \"http://shakespeare.mit.edu/Shakespeare\"}}{\\\\fldrslt \\n\\\\f1\\\\b0\\\\fs24 \\\\cf5 \\\\ul \\\\ulc5 \\\\strokec5 Shakespeare homepage}}\\n\", '')\n",
    "    # Go throw the rtf_text (which is a string) and write each text line in a text file (if the text is between \\i and \\i0, add '**' at the beginning and end of the line)\n",
    "    text = rtf_text.split(\"\\n\")\n",
    "\n",
    "    italic = False\n",
    "    \n",
    "    for line in text:\n",
    "    \n",
    "        #TEXT\n",
    "        if line[0:4] in characters_begin and not italic :\n",
    "            \n",
    "            line = line.split(': ')\n",
    "\n",
    "            text_file.write('*'+line[0]+'*'+'\\n')  \n",
    "            if len(line[1].replace('\\\\','').replace('92','')) > 1 : \n",
    "                if line[1][0] == ' ' :\n",
    "                    text_file.write(line[1][1:].replace('\\\\','').replace('92','').replace('96','').replace(\"\\\\'85\",\"\")+'\\n')\n",
    "                else : \n",
    "                    text_file.write(line[1].replace('\\\\','').replace('92','').replace('96','').replace(\"'85\",\"\")+'\\n')    \n",
    "\n",
    "        if line[0:5] == '\\\\f2\\\\i' or line[0:5] == '\\\\f3\\\\i' :\n",
    "            italic = True \n",
    "            line = line[5:]\n",
    "\n",
    "        if line[0:6] == '\\\\f1\\\\i0' :\n",
    "            italic = False  \n",
    "\n",
    "            if line[12:16] in characters_begin :\n",
    "                line = line[12:].split(': ')\n",
    "                text_file.write('*'+line[0]+'*'+'\\n')\n",
    "                text_file.write(line[1].replace('\\\\','').replace('92','')+'\\n')\n",
    "            elif line[7:11] in characters_begin :\n",
    "     \n",
    "                line = line[7:].split(': ')\n",
    "                text_file.write('*'+line[0]+'*'+'\\n')\n",
    "                text_file.write(line[1].replace('\\\\','').replace('92','')+'\\n')\n",
    "            else :\n",
    "                if len(line[8:].replace('cf0 \\\\','').replace('\\\\','')) > 1 :\n",
    "                    if line[7] != ' ' :\n",
    "                        text_file.write(line[7:].replace('\\\\','').replace('92','')+'\\n')\n",
    "                    else : \n",
    "                        text_file.write(line[8:].replace('\\\\','').replace('92','')+'\\n')\n",
    "\n",
    "\n",
    "        if italic == True :\n",
    "            line_processed = line.replace(' \\\\cf0','').replace('\\\\cf0 ','').replace('\\\\pard\\\\pardeftab708\\\\ri380\\\\sl480\\\\slmult1\\\\qc\\\\partightenfactor0','').replace('\\\\f2\\\\b0 \\\\ulnone ','').replace(' \\\\ulc0 \\\\','').replace('\\\\f3\\\\b \\\\ul','').replace('\\\\pard\\\\pardeftab708\\\\ri380\\\\sl480\\\\slmult1\\\\partightenfactor0', '').replace('\\\\','').replace('92','')\n",
    "            #print(line_processed)\n",
    "            if len(line_processed) > 1 :\n",
    "                if line_processed[0] == ' ' :\n",
    "                    line_processed = line_processed[1:]\n",
    "                if line_processed[-1] == ' ' :\n",
    "                    line_processed = line_processed[:-1]\n",
    "                if len(line_processed.replace(' ','')) > 1 :\n",
    "                    text_file.write('**'+line_processed+'**'+'\\n')\n",
    "\n"
   ]
  },
  {
   "cell_type": "markdown",
   "metadata": {},
   "source": []
  },
  {
   "cell_type": "markdown",
   "metadata": {},
   "source": [
    "# Create a csv file with predictions from BERT"
   ]
  },
  {
   "cell_type": "markdown",
   "metadata": {},
   "source": [
    "### POH"
   ]
  },
  {
   "cell_type": "code",
   "execution_count": 8,
   "metadata": {},
   "outputs": [
    {
     "name": "stderr",
     "output_type": "stream",
     "text": [
      "/Users/hugo/Desktop/Projects/MSERT/.env/lib/python3.11/site-packages/tqdm/auto.py:21: TqdmWarning: IProgress not found. Please update jupyter and ipywidgets. See https://ipywidgets.readthedocs.io/en/stable/user_install.html\n",
      "  from .autonotebook import tqdm as notebook_tqdm\n",
      "/Users/hugo/Desktop/Projects/MSERT/.env/lib/python3.11/site-packages/transformers/pipelines/text_classification.py:105: UserWarning: `return_all_scores` is now deprecated,  if want a similar functionality use `top_k=None` instead of `return_all_scores=True` or `top_k=1` instead of `return_all_scores=False`.\n",
      "  warnings.warn(\n"
     ]
    }
   ],
   "source": [
    "\n",
    "from transformers import pipeline\n",
    "\n",
    "classifier = pipeline(\"text-classification\", model=\"j-hartmann/emotion-english-distilroberta-base\", return_all_scores=True)\n",
    "\n",
    "\n",
    "def prediction(text, classifier = classifier):\n",
    "    preds = classifier(text)\n",
    "    #print(preds)\n",
    "    emotion = max(preds[0], key=lambda x:x['score'])\n",
    "\n",
    "    return emotion['label']"
   ]
  },
  {
   "cell_type": "code",
   "execution_count": 9,
   "metadata": {},
   "outputs": [],
   "source": [
    "\n",
    "from transformers import pipeline\n",
    "\n",
    "classifier_2 = pipeline(\"text-classification\", model=\"SamLowe/roberta-base-go_emotions\", return_all_scores=True)\n",
    "\n",
    "\n",
    "def prediction_2(text, classifier = classifier_2):\n",
    "    preds = classifier(text)\n",
    "    #print(preds)\n",
    "    emotion = max(preds[0], key=lambda x:x['score'])\n",
    "\n",
    "    return emotion['label']"
   ]
  },
  {
   "cell_type": "code",
   "execution_count": 10,
   "metadata": {},
   "outputs": [],
   "source": [
    "\n",
    "\n",
    "\n",
    "from transformers import pipeline\n",
    "\n",
    "classifier_3 = pipeline(\"text-classification\", model=\"michellejieli/emotion_text_classifier\", return_all_scores=True)\n",
    "\n",
    "\n",
    "def prediction_3(text, classifier = classifier_3):\n",
    "    preds = classifier(text)\n",
    "    #print(preds)\n",
    "    emotion = max(preds[0], key=lambda x:x['score'])\n",
    "\n",
    "    return emotion['label']"
   ]
  },
  {
   "cell_type": "code",
   "execution_count": 11,
   "metadata": {},
   "outputs": [
    {
     "name": "stderr",
     "output_type": "stream",
     "text": [
      "100%|██████████| 1992/1992 [01:54<00:00, 17.45it/s]\n"
     ]
    }
   ],
   "source": [
    "import pandas as pd \n",
    "from tqdm import tqdm\n",
    "\n",
    "preds = pd.DataFrame(columns = ['idx','type','character','sentence','j-hartmann/emotion-english-distilroberta-base','SamLowe/roberta-base-go_emotion', \"michellejieli/emotion_text_classifier\"])\n",
    "\n",
    "#Read throw a text file \n",
    "text_file_path = '/Users/hugo/Desktop/Projects/MSERT/scripts/processed/POH_processed.txt'\n",
    "text_file = open(text_file_path, 'r')\n",
    "text = text_file.readlines()\n",
    "with tqdm(total=len(text)) as pbar:\n",
    "    for line in text :\n",
    "        if line[0:2]=='**' :\n",
    "            preds.loc[len(preds)] = [len(preds), 'consigne', None, line[2:-3], None, None, None]\n",
    "        elif line[0]=='*' and line[1]!='*' :\n",
    "            name = line[1:-2]\n",
    "        elif line[0]!='*' :\n",
    "            #print(line)\n",
    "            line = re.split('(?<=[.!?]) +', line)\n",
    "            \n",
    "            for sentence in line :\n",
    "                if sentence != '\\n' : \n",
    "\n",
    "                    preds.loc[len(preds)] = [len(preds), 'speech', name, sentence, prediction(sentence, classifier), prediction_2(sentence), prediction_3(sentence)]\n",
    "      \n",
    "\n",
    "            \n",
    "        pbar.update(1)\n",
    "            # if len(line) > 1 :\n",
    "            #     for sentence in line :\n",
    "            #         if len(sentence) > 1 :\n",
    "            #             preds.loc[len(preds)] = [len(preds), 'speech', name, sentence+'.', None]\n",
    "            # else : \n",
    "            #preds.loc[len(preds)] = [len(preds), 'speech', name, line, None]\n",
    "\n",
    "preds.to_csv('/Users/hugo/Desktop/Projects/MSERT/scripts/processed/POH_processedV2.csv', index = False)"
   ]
  },
  {
   "cell_type": "code",
   "execution_count": 1,
   "metadata": {},
   "outputs": [],
   "source": [
    "import torch \n",
    "device = torch.device('mps')"
   ]
  },
  {
   "cell_type": "code",
   "execution_count": null,
   "metadata": {},
   "outputs": [],
   "source": []
  }
 ],
 "metadata": {
  "kernelspec": {
   "display_name": ".env",
   "language": "python",
   "name": "python3"
  },
  "language_info": {
   "codemirror_mode": {
    "name": "ipython",
    "version": 3
   },
   "file_extension": ".py",
   "mimetype": "text/x-python",
   "name": "python",
   "nbconvert_exporter": "python",
   "pygments_lexer": "ipython3",
   "version": "3.11.0"
  },
  "orig_nbformat": 4
 },
 "nbformat": 4,
 "nbformat_minor": 2
}
